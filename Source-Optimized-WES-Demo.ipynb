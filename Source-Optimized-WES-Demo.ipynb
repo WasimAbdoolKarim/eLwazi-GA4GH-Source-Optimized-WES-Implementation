{
 "cells": [
  {
   "cell_type": "markdown",
   "id": "ac018863",
   "metadata": {},
   "source": [
    "Data connect setup"
   ]
  },
  {
   "cell_type": "code",
   "execution_count": 13,
   "id": "03768e3b",
   "metadata": {},
   "outputs": [],
   "source": [
    "import requests\n",
    "import json\n",
    "\n",
    "dc_port = \"8089\"\n",
    "dc_host = \"255.255.55.55\"\n",
    "dc_base_url = \"http://{}:{}\".format(dc_host,dc_port)\n",
    "\n",
    "wes_run = \"/ga4gh/wes/v1/runs\"\n",
    "\n",
    "wes_1 = \"http://255.255.55.55:8080\"\n",
    "drs_1 = \"255.255.55.55:8081\"\n",
    "\n",
    "wes_2 = \"http://255.255.55.55:8080/ga4gh/wes/v1/runs\"\n",
    "drs_2 = \"255.255.55.55:8081\"\n",
    "\n",
    "service_info_path = \"/service-info\"\n",
    "tables_path = \"/tables\"\n",
    "table_info_path = \"/table/{}/info\"\n",
    "table_data_path = \"/table/{}/data\"\n",
    "search_path = \"/search\"\n",
    "\n",
    "def pretty_print_json(response):\n",
    "    print(json.dumps(response.json(), indent=4))"
   ]
  },
  {
   "cell_type": "markdown",
   "id": "0afb6d41",
   "metadata": {},
   "source": [
    "Confirm DC structure"
   ]
  },
  {
   "cell_type": "code",
   "execution_count": 14,
   "id": "e7d43f2b",
   "metadata": {},
   "outputs": [
    {
     "name": "stdout",
     "output_type": "stream",
     "text": [
      "{\n",
      "    \"tables\": [\n",
      "        {\n",
      "            \"name\": \"trino.ontology.axiom\",\n",
      "            \"data_model\": {\n",
      "                \"$ref\": \"http://154.114.10.13:8089/table/trino.ontology.axiom/info\"\n",
      "            }\n",
      "        },\n",
      "        {\n",
      "            \"name\": \"trino.ontology.temporary_axiom\",\n",
      "            \"data_model\": {\n",
      "                \"$ref\": \"http://154.114.10.13:8089/table/trino.ontology.temporary_axiom/info\"\n",
      "            }\n",
      "        },\n",
      "        {\n",
      "            \"name\": \"trino.public.databasechangelog\",\n",
      "            \"data_model\": {\n",
      "                \"$ref\": \"http://154.114.10.13:8089/table/trino.public.databasechangelog/info\"\n",
      "            }\n",
      "        },\n",
      "        {\n",
      "            \"name\": \"trino.public.databasechangeloglock\",\n",
      "            \"data_model\": {\n",
      "                \"$ref\": \"http://154.114.10.13:8089/table/trino.public.databasechangeloglock/info\"\n",
      "            }\n",
      "        },\n",
      "        {\n",
      "            \"name\": \"trino.public.fact\",\n",
      "            \"data_model\": {\n",
      "                \"$ref\": \"http://154.114.10.13:8089/table/trino.public.fact/info\"\n",
      "            }\n",
      "        },\n",
      "        {\n",
      "            \"name\": \"trino.public.links\",\n",
      "            \"data_model\": {\n",
      "                \"$ref\": \"http://154.114.10.13:8089/table/trino.public.links/info\"\n",
      "            }\n",
      "        },\n",
      "        {\n",
      "            \"name\": \"trino.public.mutation\",\n",
      "            \"data_model\": {\n",
      "                \"$ref\": \"http://154.114.10.13:8089/table/trino.public.mutation/info\"\n",
      "            }\n",
      "        },\n",
      "        {\n",
      "            \"name\": \"trino.public.participant\",\n",
      "            \"data_model\": {\n",
      "                \"$ref\": \"http://154.114.10.13:8089/table/trino.public.participant/info\"\n",
      "            }\n",
      "        }\n",
      "    ],\n",
      "    \"index\": [\n",
      "        {\n",
      "            \"description\": \"trino\",\n",
      "            \"url\": \"http://154.114.10.13:8089/tables/catalog/trino\",\n",
      "            \"page\": 0\n",
      "        }\n",
      "    ]\n",
      "}\n"
     ]
    }
   ],
   "source": [
    "dc_list_tables_resp = requests.request(\"GET\", dc_base_url+tables_path)\n",
    "pretty_print_json(dc_list_tables_resp)"
   ]
  },
  {
   "cell_type": "markdown",
   "id": "787938e4",
   "metadata": {},
   "source": [
    "Query space"
   ]
  },
  {
   "cell_type": "code",
   "execution_count": 20,
   "id": "9f8aff7f",
   "metadata": {},
   "outputs": [
    {
     "name": "stdout",
     "output_type": "stream",
     "text": [
      "Submit your sql query:\n",
      "{\n",
      "    \"data\": [],\n",
      "    \"pagination\": {\n",
      "        \"next_page_url\": \"http://154.114.10.13:8089/search/v1/statement/queued/20230714_120512_00048_72yy3/y2b7d37e48764bed63df2ecb5512d428add4e367c/1?queryJobId=20230714_120512_00048_72yy3\"\n",
      "    }\n",
      "}\n"
     ]
    }
   ],
   "source": [
    "header = {\"content-type\":\"application/json\"}\n",
    "\n",
    "#allows for custom search queries for use with more populous data-connect\n",
    "query = input(\"Submit your sql query:\")\n",
    "if query:\n",
    "    request_body = {\n",
    "      \"query\": query\n",
    "    }\n",
    "else:\n",
    "    #default search query just pulls file DRIs from the default table\n",
    "    request_body = {\n",
    "  \"query\": \"SELECT url FROM trino.public.links\"\n",
    "    }\n",
    "dc_search_resp = requests.post(dc_base_url+search_path, json = request_body, headers = header)\n",
    "pretty_print_json(dc_search_resp)"
   ]
  },
  {
   "cell_type": "markdown",
   "id": "7e9fce50",
   "metadata": {},
   "source": [
    "Run the below if the data field is empty, data-connect is still querying the trino (may need to be rerun multiple times)"
   ]
  },
  {
   "cell_type": "code",
   "execution_count": 29,
   "id": "aa6c339e",
   "metadata": {},
   "outputs": [
    {
     "ename": "AttributeError",
     "evalue": "'str' object has no attribute 'json'",
     "output_type": "error",
     "traceback": [
      "\u001b[0;31m---------------------------------------------------------------------------\u001b[0m",
      "\u001b[0;31mAttributeError\u001b[0m                            Traceback (most recent call last)",
      "Cell \u001b[0;32mIn[29], line 2\u001b[0m\n\u001b[1;32m      1\u001b[0m \u001b[38;5;66;03m#convert the response to a json and cast it to python readable dictionary format.\u001b[39;00m\n\u001b[0;32m----> 2\u001b[0m dc_search_resp\u001b[38;5;241m=\u001b[39mjson\u001b[38;5;241m.\u001b[39mdumps(\u001b[43mdc_search_resp\u001b[49m\u001b[38;5;241;43m.\u001b[39;49m\u001b[43mjson\u001b[49m())\n\u001b[1;32m      3\u001b[0m dc_search_resp\u001b[38;5;241m=\u001b[39mjson\u001b[38;5;241m.\u001b[39mloads(dc_search_resp)\n\u001b[1;32m      4\u001b[0m \u001b[38;5;66;03m#data-connect will provide next page urls to allow for processing delays. we call the next page to check if the data has loaded yet\u001b[39;00m\n",
      "\u001b[0;31mAttributeError\u001b[0m: 'str' object has no attribute 'json'"
     ]
    }
   ],
   "source": [
    "#convert the response to a json and cast it to python readable dictionary format.\n",
    "dc_search_resp=json.dumps(dc_search_resp.json())\n",
    "dc_search_resp=json.loads(dc_search_resp)\n",
    "#data-connect will provide next page urls to allow for processing delays. we call the next page to check if the data has loaded yet\n",
    "dc_search_resp = requests.get(dc_search_resp[\"pagination\"][\"next_page_url\"], json = request_body, headers = header)\n",
    "pretty_print_json(dc_search_resp)"
   ]
  },
  {
   "cell_type": "markdown",
   "id": "540a83a2",
   "metadata": {},
   "source": [
    "Setup for connecting to the WES service"
   ]
  },
  {
   "cell_type": "code",
   "execution_count": 25,
   "id": "7a38ce8e",
   "metadata": {},
   "outputs": [],
   "source": [
    "#dc_search_resp must be formatted into a python dictionary to make it iterable more smoothly.\n",
    "#until the data connect stream is returning data, this code block will error code because it's trying to jsonify an http response\n",
    "\n",
    "dc_search_resp=json.dumps(dc_search_resp.json())\n",
    "samples=json.loads(dc_search_resp)\n",
    "\n",
    "#Below will query dataconnect for a table relating WES and DRS servers\n",
    "#dc_search_resp = requests.post(dc_base_url+search_path, json = {\"query\":\"SELECT * FROM WES_DRS_reference\"}, headers = {\"content-type\":\"application/json\"})\n",
    "#dc_search_resp=json.dumps(dc_search_resp.json())\n",
    "#dc_reference=json.loads(dc_search_resp)\n",
    "dc_reference={drs_1:wes_1+wes_run,\n",
    "              drs_2:wes_2+wes_run}\n",
    "\n",
    "\n",
    "def pretty_print_json(response):\n",
    "    # pretty print JSON in blue color\n",
    "    print(\"\\033[38;2;8;75;138m\"+json.dumps(response.json(), indent=4)+\"\\033[0m\")\n",
    "    \n",
    "def print_head(text):\n",
    "    # print in green color\n",
    "    print(\"\\033[38;2;8;138;75m\"+text+\"\\033[0m\")\n",
    "\n",
    "#Switch logic for mapping DRS url to respective WES server. For the base case these are static enough to be scripted in.\n",
    "#A dataconnect search request could provide a dictionary mapping for DRS uri to WES server should the code be deployed\n",
    "def optimize(url):\n",
    "    #extract the end of the port number\n",
    "    x=url[6:].index(\"/\")+6\n",
    "    #extract host ip + port \n",
    "    drs=url[6:x]\n",
    "    #using a switch here for ease of expansion. \n",
    "    match drs:\n",
    "            case drs_1:\n",
    "                #returning the same host with a wes port though future implementation may return\n",
    "                #different host as well\n",
    "                return wes_1+wes_run\n",
    "            case drs_2:\n",
    "                return wes_2+wes_run\n",
    "            case default:\n",
    "                return \"http://localhost:6000\"+wes_run\n",
    "            \n",
    "#rough data connect version of optimiser logic\n",
    "def optimize_dict(url):\n",
    "    #extract the end of the port number\n",
    "    x=url[6:].index(\"/\")+6\n",
    "    #extract host ip + port \n",
    "    drs=url[6:x]\n",
    "    #compare the given url to the reference ones in DC\n",
    "    try:\n",
    "        return dc_reference[drs]\n",
    "    except:    \n",
    "        return \"http://localhost:6000\"+wes_run"
   ]
  },
  {
   "cell_type": "markdown",
   "id": "68bb91ff",
   "metadata": {},
   "source": [
    "Submit workflow to WES"
   ]
  },
  {
   "cell_type": "code",
   "execution_count": 26,
   "id": "69d3d5bc",
   "metadata": {},
   "outputs": [
    {
     "name": "stdout",
     "output_type": "stream",
     "text": [
      "drs://154.114.10.100:5000/063e092e-b9e2-496f-ac5a-27dc3a1764e5\n",
      "\u001b[38;2;8;138;75mPOST request sent to http://154.114.10.100:6000/ga4gh/wes/v1/runs\u001b[0m\n",
      "\u001b[38;2;8;75;138m{\n",
      "    \"run_id\": \"468ba909-c36f-4417-8d70-d4f6cbb0e5be\"\n",
      "}\u001b[0m\n",
      "drs://154.114.10.176:5000/8e18bfb64168994489bc9e7fda0acd4f\n",
      "\u001b[38;2;8;138;75mPOST request sent to http://154.114.10.176:6000/ga4gh/wes/v1/runs\u001b[0m\n",
      "\u001b[38;2;8;75;138m{\n",
      "    \"run_id\": \"2c7ae809-00a5-46f1-a045-102a7192cfd9\"\n",
      "}\u001b[0m\n"
     ]
    }
   ],
   "source": [
    "http_method = \"POST\"\n",
    "\n",
    "#replace this with a relevant workflow, for demo purposes we are reusing the starterkit workflow by Yash Puligundla of GA4GH\n",
    "nextflow_workflow_url = \"https://github.com/yash-puligundla/samtools-head-nf\"\n",
    "#array to store run ID's\n",
    "response_aggregate = []\n",
    "\n",
    "#loop through all matching samples\n",
    "for entry in samples[\"data\"]:\n",
    "    #implement error check for duplicate params to prevent 409 on s3 storage\n",
    "    input_file = entry[\"url\"]\n",
    "    #for user to verify input file url\n",
    "    print(input_file)\n",
    "    #optimize reads the drs URI and replies with the appropriate WES url\n",
    "    request_url=optimize(input_file)\n",
    "    #specify workflow type, location, and input\n",
    "    data = {\n",
    "        'workflow_type': 'NEXTFLOW',\n",
    "        'workflow_type_version': '21.04.0',\n",
    "        'workflow_url': nextflow_workflow_url,\n",
    "        'workflow_params': f'{{\"input\":\"{input_file}\"}}'\n",
    "    }\n",
    "\n",
    "    print_head(\"{} request sent to {}\".format(http_method, request_url))\n",
    "    # Post a Nextflow workflow\n",
    "    wes_post_workflow_response = requests.request(http_method, request_url, data = data)\n",
    "    # print the run id\n",
    "    pretty_print_json(wes_post_workflow_response)\n",
    "    try:\n",
    "        #save run id to array\n",
    "        response_aggregate.append(request_url+\"/\"+wes_post_workflow_response.json()[\"run_id\"])\n",
    "    except:\n",
    "        print(\"run failed to start\"+input_file)"
   ]
  },
  {
   "cell_type": "markdown",
   "id": "2a36d0b4",
   "metadata": {},
   "source": [
    "Print status of runs"
   ]
  },
  {
   "cell_type": "code",
   "execution_count": 28,
   "id": "a277dca9",
   "metadata": {},
   "outputs": [
    {
     "name": "stdout",
     "output_type": "stream",
     "text": [
      "\u001b[38;2;8;138;75mGET request to http://154.114.10.100:6000/ga4gh/wes/v1/runs/468ba909-c36f-4417-8d70-d4f6cbb0e5be\u001b[0m\n",
      "\u001b[38;2;8;75;138m{\n",
      "    \"run_id\": \"468ba909-c36f-4417-8d70-d4f6cbb0e5be\",\n",
      "    \"request\": {\n",
      "        \"workflow_params\": {\n",
      "            \"input\": \"drs://154.114.10.100:5000/063e092e-b9e2-496f-ac5a-27dc3a1764e5\"\n",
      "        },\n",
      "        \"workflow_type\": \"NEXTFLOW\",\n",
      "        \"workflow_type_version\": \"21.04.0\",\n",
      "        \"workflow_url\": \"https://github.com/yash-puligundla/samtools-head-nf\"\n",
      "    },\n",
      "    \"state\": \"EXECUTOR_ERROR\",\n",
      "    \"run_log\": {\n",
      "        \"name\": \"yash-puligundla/samtools-head-nf\",\n",
      "        \"cmd\": [\n",
      "            \"#!/bin/bash -ue\",\n",
      "            \"samtools head https://s3.us-east-2.amazonaws.com/ga4gh-ismb-tutorial-2022/data/ref/GRCh38_full_analysis_set_plus_decoy_hla.fa.fai > output_samtools_head.txt\"\n",
      "        ],\n",
      "        \"start_time\": \"2023-07-14T12:05:47Z\",\n",
      "        \"end_time\": \"2023-07-14T12:05:54Z\",\n",
      "        \"stdout\": \"http://localhost:6000/ga4gh/wes/v1/logs/nextflow/stdout/468ba909-c36f-4417-8d70-d4f6cbb0e5be?workdirs=74%2Fdf4c0030eeba5c8a426ea94d75455e\",\n",
      "        \"stderr\": \"http://localhost:6000/ga4gh/wes/v1/logs/nextflow/stderr/468ba909-c36f-4417-8d70-d4f6cbb0e5be?workdirs=74%2Fdf4c0030eeba5c8a426ea94d75455e\",\n",
      "        \"exit_code\": 1\n",
      "    },\n",
      "    \"task_logs\": [\n",
      "        {\n",
      "            \"name\": \"samtools_head\",\n",
      "            \"cmd\": [\n",
      "                \"#!/bin/bash -ue\",\n",
      "                \"samtools head https://s3.us-east-2.amazonaws.com/ga4gh-ismb-tutorial-2022/data/ref/GRCh38_full_analysis_set_plus_decoy_hla.fa.fai > output_samtools_head.txt\"\n",
      "            ],\n",
      "            \"start_time\": \"2023-07-14T12:05:47Z\",\n",
      "            \"end_time\": \"2023-07-14T12:05:54Z\",\n",
      "            \"stdout\": \"http://localhost:6000/ga4gh/wes/v1/logs/nextflow/stdout/468ba909-c36f-4417-8d70-d4f6cbb0e5be/74/df4c0030eeba5c8a426ea94d75455e\",\n",
      "            \"stderr\": \"http://localhost:6000/ga4gh/wes/v1/logs/nextflow/stderr/468ba909-c36f-4417-8d70-d4f6cbb0e5be/74/df4c0030eeba5c8a426ea94d75455e\",\n",
      "            \"exit_code\": 1\n",
      "        }\n",
      "    ],\n",
      "    \"outputs\": {\n",
      "        \"output_samtools_head.txt\": \"file:///tmp/shared/wes/wes_runs/46/8b/a9/468ba909-c36f-4417-8d70-d4f6cbb0e5be/work/74/df4c0030eeba5c8a426ea94d75455e/output_samtools_head.txt\"\n",
      "    }\n",
      "}\u001b[0m\n",
      "\u001b[38;2;8;138;75mGET request to http://154.114.10.176:6000/ga4gh/wes/v1/runs/2c7ae809-00a5-46f1-a045-102a7192cfd9\u001b[0m\n",
      "\u001b[38;2;8;75;138m{\n",
      "    \"run_id\": \"2c7ae809-00a5-46f1-a045-102a7192cfd9\",\n",
      "    \"request\": {\n",
      "        \"workflow_params\": {\n",
      "            \"input\": \"drs://154.114.10.176:5000/8e18bfb64168994489bc9e7fda0acd4f\"\n",
      "        },\n",
      "        \"workflow_type\": \"NEXTFLOW\",\n",
      "        \"workflow_type_version\": \"21.04.0\",\n",
      "        \"workflow_url\": \"https://github.com/yash-puligundla/samtools-head-nf\"\n",
      "    },\n",
      "    \"state\": \"COMPLETE\",\n",
      "    \"run_log\": {\n",
      "        \"name\": \"yash-puligundla/samtools-head-nf\",\n",
      "        \"cmd\": [\n",
      "            \"#!/bin/bash -ue\",\n",
      "            \"samtools head https://s3.us-east-2.amazonaws.com/ga4gh-ismb-tutorial-2022/data/1000genomes/cram/highcov/HG00449.final.2400kb.cram > output_samtools_head.txt\"\n",
      "        ],\n",
      "        \"start_time\": \"2023-07-14T12:05:49Z\",\n",
      "        \"end_time\": \"2023-07-14T12:05:57Z\",\n",
      "        \"stdout\": \"http://localhost:6000/ga4gh/wes/v1/logs/nextflow/stdout/2c7ae809-00a5-46f1-a045-102a7192cfd9?workdirs=e4%2Feebaee499003e17e1a43fdb7205e65\",\n",
      "        \"stderr\": \"http://localhost:6000/ga4gh/wes/v1/logs/nextflow/stderr/2c7ae809-00a5-46f1-a045-102a7192cfd9?workdirs=e4%2Feebaee499003e17e1a43fdb7205e65\",\n",
      "        \"exit_code\": 0\n",
      "    },\n",
      "    \"task_logs\": [\n",
      "        {\n",
      "            \"name\": \"samtools_head\",\n",
      "            \"cmd\": [\n",
      "                \"#!/bin/bash -ue\",\n",
      "                \"samtools head https://s3.us-east-2.amazonaws.com/ga4gh-ismb-tutorial-2022/data/1000genomes/cram/highcov/HG00449.final.2400kb.cram > output_samtools_head.txt\"\n",
      "            ],\n",
      "            \"start_time\": \"2023-07-14T12:05:49Z\",\n",
      "            \"end_time\": \"2023-07-14T12:05:57Z\",\n",
      "            \"stdout\": \"http://localhost:6000/ga4gh/wes/v1/logs/nextflow/stdout/2c7ae809-00a5-46f1-a045-102a7192cfd9/e4/eebaee499003e17e1a43fdb7205e65\",\n",
      "            \"stderr\": \"http://localhost:6000/ga4gh/wes/v1/logs/nextflow/stderr/2c7ae809-00a5-46f1-a045-102a7192cfd9/e4/eebaee499003e17e1a43fdb7205e65\",\n",
      "            \"exit_code\": 0\n",
      "        }\n",
      "    ],\n",
      "    \"outputs\": {\n",
      "        \"output_samtools_head.txt\": \"file:///tmp/shared/wes/wes_runs/2c/7a/e8/2c7ae809-00a5-46f1-a045-102a7192cfd9/work/e4/eebaee499003e17e1a43fdb7205e65/output_samtools_head.txt\"\n",
      "    }\n",
      "}\u001b[0m\n"
     ]
    }
   ],
   "source": [
    "http_method = \"GET\"\n",
    "\n",
    "#loop through jobs to check status\n",
    "for run in response_aggregate:\n",
    "    print_head(\"{} request to {}\".format(http_method, run))\n",
    "# Get request to /runs/{run_id}\n",
    "    monitor_run_response = requests.request(http_method, run)\n",
    "# print the response\n",
    "    pretty_print_json(monitor_run_response)\n",
    "    \n",
    "#we expect the first run to fail due to a mismatch of input filetype for the workflow"
   ]
  },
  {
   "cell_type": "code",
   "execution_count": null,
   "id": "c47382d4",
   "metadata": {},
   "outputs": [],
   "source": []
  }
 ],
 "metadata": {
  "kernelspec": {
   "display_name": "Python 3 (ipykernel)",
   "language": "python",
   "name": "python3"
  },
  "language_info": {
   "codemirror_mode": {
    "name": "ipython",
    "version": 3
   },
   "file_extension": ".py",
   "mimetype": "text/x-python",
   "name": "python",
   "nbconvert_exporter": "python",
   "pygments_lexer": "ipython3",
   "version": "3.10.6"
  }
 },
 "nbformat": 4,
 "nbformat_minor": 5
}
